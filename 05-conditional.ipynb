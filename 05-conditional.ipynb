{
 "cells": [
  {
   "cell_type": "markdown",
   "metadata": {},
   "source": [
    "# Making choices\n",
    "\n",
    "Pay attention to indentation. Pay attention to AND and OR."
   ]
  },
  {
   "cell_type": "code",
   "execution_count": 2,
   "metadata": {},
   "outputs": [
    {
     "name": "stdout",
     "output_type": "stream",
     "text": [
      "greater\n",
      "done\n"
     ]
    }
   ],
   "source": [
    "num = 23423552\n",
    "\n",
    "if num > 100:\n",
    "    print(\"greater\")\n",
    "else:\n",
    "    print(\"not greater\")\n",
    "print(\"done\")"
   ]
  },
  {
   "cell_type": "code",
   "execution_count": 4,
   "metadata": {},
   "outputs": [
    {
     "name": "stdout",
     "output_type": "stream",
     "text": [
      "-3 is negative\n"
     ]
    }
   ],
   "source": [
    "num = -3\n",
    "if num > 0:\n",
    "    print(num, \"is positive\")\n",
    "elif num == 0:   #double zero is for comparing, otherwise the number would be changed to zero!\n",
    "    print(num, \"is zero\")\n",
    "else:\n",
    "    print(num, \"is negative\")"
   ]
  },
  {
   "cell_type": "code",
   "execution_count": 5,
   "metadata": {},
   "outputs": [
    {
     "name": "stdout",
     "output_type": "stream",
     "text": [
      "at least one part is true\n"
     ]
    }
   ],
   "source": [
    "if (1 > 0) or (-1 > 0):\n",
    "    print(\"at least one part is true\")\n",
    "else:\n",
    "    print(\"both parts are false\")"
   ]
  },
  {
   "cell_type": "markdown",
   "metadata": {},
   "source": [
    "In Python there is a boolean operator, which tells if a statement is true or false."
   ]
  },
  {
   "cell_type": "code",
   "execution_count": 10,
   "metadata": {},
   "outputs": [
    {
     "name": "stdout",
     "output_type": "stream",
     "text": [
      "I bet you it's gonna rain today :(\n"
     ]
    }
   ],
   "source": [
    "temp = 0\n",
    "if temp > 20:\n",
    "    print(\"Yay, summer!\")\n",
    "elif 10 <= temp <= 20:\n",
    "    print(\"Summer is going away...\")\n",
    "else:\n",
    "    print(\"I bet you it's gonna rain today :(\")\n"
   ]
  },
  {
   "cell_type": "code",
   "execution_count": 14,
   "metadata": {},
   "outputs": [
    {
     "name": "stdout",
     "output_type": "stream",
     "text": [
      "Suspicious looking maxima\n"
     ]
    }
   ],
   "source": [
    "import numpy as np\n",
    "\n",
    "arthritis = np.loadtxt('data/inflammation-01.csv', delimiter=\",\")\n",
    "\n",
    "max_infl_0  = arthritis.max(axis=0)[0]\n",
    "max_infl_20  = arthritis.max(axis=0)[20]\n",
    "\n",
    "if max_infl_0 == 0 and max_infl_20 == 20:\n",
    "    print(\"Suspicious looking maxima\")\n",
    "elif arthritis.min(axis=0).sum() == 0:\n",
    "    print(\"Minima add up to zero!\")\n",
    "else:\n",
    "    print(\"Seems OK!\")"
   ]
  },
  {
   "cell_type": "markdown",
   "metadata": {},
   "source": [
    "Now if we wanna check the data for all files, we can write a loop! It's on the next notebook."
   ]
  },
  {
   "cell_type": "code",
   "execution_count": null,
   "metadata": {},
   "outputs": [],
   "source": []
  }
 ],
 "metadata": {
  "kernelspec": {
   "display_name": "Python 3",
   "language": "python",
   "name": "python3"
  },
  "language_info": {
   "codemirror_mode": {
    "name": "ipython",
    "version": 3
   },
   "file_extension": ".py",
   "mimetype": "text/x-python",
   "name": "python",
   "nbconvert_exporter": "python",
   "pygments_lexer": "ipython3",
   "version": "3.7.4"
  }
 },
 "nbformat": 4,
 "nbformat_minor": 4
}
